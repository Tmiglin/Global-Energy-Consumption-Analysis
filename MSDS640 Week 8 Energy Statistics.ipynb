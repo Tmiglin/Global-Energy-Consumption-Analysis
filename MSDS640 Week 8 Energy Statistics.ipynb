{
 "cells": [
  {
   "cell_type": "code",
   "execution_count": 69,
   "metadata": {},
   "outputs": [],
   "source": [
    "import pandas as pd\n",
    "import numpy as np\n",
    "\n",
    "import os\n",
    "\n",
    "import seaborn as sns\n",
    "import matplotlib.pyplot as plt"
   ]
  },
  {
   "cell_type": "code",
   "execution_count": 3,
   "metadata": {},
   "outputs": [
    {
     "name": "stdout",
     "output_type": "stream",
     "text": [
      "/Kaggle/input\\.RData\n",
      "/Kaggle/input\\.Rhistory\n",
      "/Kaggle/input\\all_energy_statistics.csv\n",
      "/Kaggle/input\\apple-aapl-historical-stock-data.zip\n",
      "/Kaggle/input\\international-energy-statistics.zip\n",
      "/Kaggle/input\\iris.data\n",
      "/Kaggle/input\\shot_logs.csv\n",
      "/Kaggle/input\\top50.csv\n",
      "/Kaggle/input\\vgsales.csv\n"
     ]
    }
   ],
   "source": [
    "for dirname, _, filenames in os.walk('/Kaggle/input'):\n",
    "    for filename in filenames:\n",
    "        print(os.path.join(dirname,filename))"
   ]
  },
  {
   "cell_type": "markdown",
   "metadata": {},
   "source": [
    "# Section 1: Define the Problem\n",
    "\n",
    "__Given this data on international energy statistics, what sort of common good problem can be derived:__\n",
    "\n",
    "    The focus of this project should probably lie in comparing certain categories of energy sources. \n",
    "    I will first read through all categories and then plot a histogram to see which energy sources have been \n",
    "    around the longest.\n",
    "    "
   ]
  },
  {
   "cell_type": "code",
   "execution_count": 6,
   "metadata": {},
   "outputs": [],
   "source": [
    "df = pd.read_csv('/Kaggle/input/all_energy_statistics.csv')"
   ]
  },
  {
   "cell_type": "code",
   "execution_count": 9,
   "metadata": {},
   "outputs": [
    {
     "data": {
      "text/html": [
       "<div>\n",
       "<style scoped>\n",
       "    .dataframe tbody tr th:only-of-type {\n",
       "        vertical-align: middle;\n",
       "    }\n",
       "\n",
       "    .dataframe tbody tr th {\n",
       "        vertical-align: top;\n",
       "    }\n",
       "\n",
       "    .dataframe thead th {\n",
       "        text-align: right;\n",
       "    }\n",
       "</style>\n",
       "<table border=\"1\" class=\"dataframe\">\n",
       "  <thead>\n",
       "    <tr style=\"text-align: right;\">\n",
       "      <th></th>\n",
       "      <th>country_or_area</th>\n",
       "      <th>commodity_transaction</th>\n",
       "      <th>year</th>\n",
       "      <th>unit</th>\n",
       "      <th>quantity</th>\n",
       "      <th>quantity_footnotes</th>\n",
       "      <th>category</th>\n",
       "    </tr>\n",
       "  </thead>\n",
       "  <tbody>\n",
       "    <tr>\n",
       "      <th>0</th>\n",
       "      <td>Austria</td>\n",
       "      <td>Additives and Oxygenates - Exports</td>\n",
       "      <td>1996</td>\n",
       "      <td>Metric tons,  thousand</td>\n",
       "      <td>5.0</td>\n",
       "      <td>NaN</td>\n",
       "      <td>additives_and_oxygenates</td>\n",
       "    </tr>\n",
       "    <tr>\n",
       "      <th>1</th>\n",
       "      <td>Austria</td>\n",
       "      <td>Additives and Oxygenates - Exports</td>\n",
       "      <td>1995</td>\n",
       "      <td>Metric tons,  thousand</td>\n",
       "      <td>17.0</td>\n",
       "      <td>NaN</td>\n",
       "      <td>additives_and_oxygenates</td>\n",
       "    </tr>\n",
       "    <tr>\n",
       "      <th>2</th>\n",
       "      <td>Belgium</td>\n",
       "      <td>Additives and Oxygenates - Exports</td>\n",
       "      <td>2014</td>\n",
       "      <td>Metric tons,  thousand</td>\n",
       "      <td>0.0</td>\n",
       "      <td>NaN</td>\n",
       "      <td>additives_and_oxygenates</td>\n",
       "    </tr>\n",
       "    <tr>\n",
       "      <th>3</th>\n",
       "      <td>Belgium</td>\n",
       "      <td>Additives and Oxygenates - Exports</td>\n",
       "      <td>2013</td>\n",
       "      <td>Metric tons,  thousand</td>\n",
       "      <td>0.0</td>\n",
       "      <td>NaN</td>\n",
       "      <td>additives_and_oxygenates</td>\n",
       "    </tr>\n",
       "    <tr>\n",
       "      <th>4</th>\n",
       "      <td>Belgium</td>\n",
       "      <td>Additives and Oxygenates - Exports</td>\n",
       "      <td>2012</td>\n",
       "      <td>Metric tons,  thousand</td>\n",
       "      <td>35.0</td>\n",
       "      <td>NaN</td>\n",
       "      <td>additives_and_oxygenates</td>\n",
       "    </tr>\n",
       "    <tr>\n",
       "      <th>5</th>\n",
       "      <td>Belgium</td>\n",
       "      <td>Additives and Oxygenates - Exports</td>\n",
       "      <td>2011</td>\n",
       "      <td>Metric tons,  thousand</td>\n",
       "      <td>25.0</td>\n",
       "      <td>NaN</td>\n",
       "      <td>additives_and_oxygenates</td>\n",
       "    </tr>\n",
       "    <tr>\n",
       "      <th>6</th>\n",
       "      <td>Belgium</td>\n",
       "      <td>Additives and Oxygenates - Exports</td>\n",
       "      <td>2010</td>\n",
       "      <td>Metric tons,  thousand</td>\n",
       "      <td>22.0</td>\n",
       "      <td>NaN</td>\n",
       "      <td>additives_and_oxygenates</td>\n",
       "    </tr>\n",
       "    <tr>\n",
       "      <th>7</th>\n",
       "      <td>Belgium</td>\n",
       "      <td>Additives and Oxygenates - Exports</td>\n",
       "      <td>2009</td>\n",
       "      <td>Metric tons,  thousand</td>\n",
       "      <td>45.0</td>\n",
       "      <td>NaN</td>\n",
       "      <td>additives_and_oxygenates</td>\n",
       "    </tr>\n",
       "    <tr>\n",
       "      <th>8</th>\n",
       "      <td>Czechia</td>\n",
       "      <td>Additives and Oxygenates - Exports</td>\n",
       "      <td>1998</td>\n",
       "      <td>Metric tons,  thousand</td>\n",
       "      <td>1.0</td>\n",
       "      <td>NaN</td>\n",
       "      <td>additives_and_oxygenates</td>\n",
       "    </tr>\n",
       "    <tr>\n",
       "      <th>9</th>\n",
       "      <td>Czechia</td>\n",
       "      <td>Additives and Oxygenates - Exports</td>\n",
       "      <td>1995</td>\n",
       "      <td>Metric tons,  thousand</td>\n",
       "      <td>7.0</td>\n",
       "      <td>NaN</td>\n",
       "      <td>additives_and_oxygenates</td>\n",
       "    </tr>\n",
       "  </tbody>\n",
       "</table>\n",
       "</div>"
      ],
      "text/plain": [
       "  country_or_area               commodity_transaction  year  \\\n",
       "0         Austria  Additives and Oxygenates - Exports  1996   \n",
       "1         Austria  Additives and Oxygenates - Exports  1995   \n",
       "2         Belgium  Additives and Oxygenates - Exports  2014   \n",
       "3         Belgium  Additives and Oxygenates - Exports  2013   \n",
       "4         Belgium  Additives and Oxygenates - Exports  2012   \n",
       "5         Belgium  Additives and Oxygenates - Exports  2011   \n",
       "6         Belgium  Additives and Oxygenates - Exports  2010   \n",
       "7         Belgium  Additives and Oxygenates - Exports  2009   \n",
       "8         Czechia  Additives and Oxygenates - Exports  1998   \n",
       "9         Czechia  Additives and Oxygenates - Exports  1995   \n",
       "\n",
       "                     unit  quantity  quantity_footnotes  \\\n",
       "0  Metric tons,  thousand       5.0                 NaN   \n",
       "1  Metric tons,  thousand      17.0                 NaN   \n",
       "2  Metric tons,  thousand       0.0                 NaN   \n",
       "3  Metric tons,  thousand       0.0                 NaN   \n",
       "4  Metric tons,  thousand      35.0                 NaN   \n",
       "5  Metric tons,  thousand      25.0                 NaN   \n",
       "6  Metric tons,  thousand      22.0                 NaN   \n",
       "7  Metric tons,  thousand      45.0                 NaN   \n",
       "8  Metric tons,  thousand       1.0                 NaN   \n",
       "9  Metric tons,  thousand       7.0                 NaN   \n",
       "\n",
       "                   category  \n",
       "0  additives_and_oxygenates  \n",
       "1  additives_and_oxygenates  \n",
       "2  additives_and_oxygenates  \n",
       "3  additives_and_oxygenates  \n",
       "4  additives_and_oxygenates  \n",
       "5  additives_and_oxygenates  \n",
       "6  additives_and_oxygenates  \n",
       "7  additives_and_oxygenates  \n",
       "8  additives_and_oxygenates  \n",
       "9  additives_and_oxygenates  "
      ]
     },
     "execution_count": 9,
     "metadata": {},
     "output_type": "execute_result"
    }
   ],
   "source": [
    "df.head(10)"
   ]
  },
  {
   "cell_type": "code",
   "execution_count": 10,
   "metadata": {},
   "outputs": [
    {
     "data": {
      "text/plain": [
       "country_or_area           object\n",
       "commodity_transaction     object\n",
       "year                       int64\n",
       "unit                      object\n",
       "quantity                 float64\n",
       "quantity_footnotes       float64\n",
       "category                  object\n",
       "dtype: object"
      ]
     },
     "execution_count": 10,
     "metadata": {},
     "output_type": "execute_result"
    }
   ],
   "source": [
    "df.dtypes"
   ]
  },
  {
   "cell_type": "code",
   "execution_count": 13,
   "metadata": {},
   "outputs": [
    {
     "data": {
      "text/plain": [
       "array(['additives_and_oxygenates', 'animal_waste', 'anthracite',\n",
       "       'aviation_gasoline', 'bagasse', 'biodiesel', 'biogases',\n",
       "       'biogasoline', 'bitumen', 'black_liquor', 'blast_furnace_gas',\n",
       "       'brown_coal_briquettes', 'brown_coal', 'charcoal', 'coal_tar',\n",
       "       'coke_oven_coke', 'coking_coal', 'conventional_crude_oil',\n",
       "       'direct_use_of_geothermal_heat',\n",
       "       'direct_use_of_solar_thermal_heat',\n",
       "       'electricity_net_installed_capacity_of_electric_power_plants',\n",
       "       'ethane', 'falling_water', 'fuel_oil', 'fuelwood', 'gas_coke',\n",
       "       'gas_oil_diesel_oil', 'gasoline_type_jet_fuel', 'gasworks_gas',\n",
       "       'geothermal', 'hard_coal', 'heat', 'hydro', 'industrial_waste',\n",
       "       'kerosene_type_jet_fuel', 'lignite', 'liquified_petroleum_gas',\n",
       "       'lubricants', 'motor_gasoline', 'municipal_wastes', 'naphtha',\n",
       "       'natural_gas_including_lng', 'natural_gas_liquids',\n",
       "       'nuclear_electricity', 'of_which_biodiesel',\n",
       "       'of_which_biogasoline', 'oil_shale_oil_sands',\n",
       "       'other_bituminous_coal', 'other_coal_products',\n",
       "       'other_hydrocarbons', 'other_kerosene', 'other_liquid_biofuels',\n",
       "       'other_oil_products_n_e_c', 'other_recovered_gases',\n",
       "       'other_vegetal_material_and_residues', 'paraffin_waxes',\n",
       "       'patent_fuel', 'peat', 'peat_products', 'petroleum_coke',\n",
       "       'refinery_feedstocks', 'refinery_gas', 'solar_electricity',\n",
       "       'sub_bituminous_coal', 'thermal_electricity',\n",
       "       'tide_wave_and_ocean_electricity', 'total_electricity',\n",
       "       'total_refinery_output', 'uranium',\n",
       "       'white_spirit_and_special_boiling_point_industrial_spirits',\n",
       "       'wind_electricity'], dtype=object)"
      ]
     },
     "execution_count": 13,
     "metadata": {},
     "output_type": "execute_result"
    }
   ],
   "source": [
    "df.category.unique()"
   ]
  },
  {
   "cell_type": "markdown",
   "metadata": {},
   "source": [
    "# Categories of Energy:\n",
    "## Renewables\n",
    "1. solar_electricity\n",
    "2. wind_electricity\n",
    "3. hydro\n",
    "4. tide_wave_and_ocean_electricity\n",
    "5. geothermal\n",
    "6. falling_water\n",
    "\n",
    "## Non-Renewables\n",
    "1. natural_gas_including_lng\n",
    "2. coal_tar\n",
    "3. hard_coal\n",
    "4. petroleum_coke\n",
    "5. nuclear_electricity\n",
    "6. conventional_crude_oil"
   ]
  },
  {
   "cell_type": "code",
   "execution_count": 29,
   "metadata": {},
   "outputs": [],
   "source": [
    "df_by_year = df.sort_values(by=['year'],ascending = False)"
   ]
  },
  {
   "cell_type": "code",
   "execution_count": 30,
   "metadata": {},
   "outputs": [
    {
     "data": {
      "text/html": [
       "<div>\n",
       "<style scoped>\n",
       "    .dataframe tbody tr th:only-of-type {\n",
       "        vertical-align: middle;\n",
       "    }\n",
       "\n",
       "    .dataframe tbody tr th {\n",
       "        vertical-align: top;\n",
       "    }\n",
       "\n",
       "    .dataframe thead th {\n",
       "        text-align: right;\n",
       "    }\n",
       "</style>\n",
       "<table border=\"1\" class=\"dataframe\">\n",
       "  <thead>\n",
       "    <tr style=\"text-align: right;\">\n",
       "      <th></th>\n",
       "      <th>country_or_area</th>\n",
       "      <th>commodity_transaction</th>\n",
       "      <th>year</th>\n",
       "      <th>unit</th>\n",
       "      <th>quantity</th>\n",
       "      <th>quantity_footnotes</th>\n",
       "      <th>category</th>\n",
       "    </tr>\n",
       "  </thead>\n",
       "  <tbody>\n",
       "    <tr>\n",
       "      <th>821902</th>\n",
       "      <td>Myanmar</td>\n",
       "      <td>Natural gas (including LNG) - Memo:Gross produ...</td>\n",
       "      <td>2014</td>\n",
       "      <td>Terajoules</td>\n",
       "      <td>594851.00000</td>\n",
       "      <td>NaN</td>\n",
       "      <td>natural_gas_including_lng</td>\n",
       "    </tr>\n",
       "    <tr>\n",
       "      <th>272490</th>\n",
       "      <td>Sweden</td>\n",
       "      <td>Fuel oil - Consumption by other</td>\n",
       "      <td>2014</td>\n",
       "      <td>Metric tons,  thousand</td>\n",
       "      <td>12.00000</td>\n",
       "      <td>NaN</td>\n",
       "      <td>fuel_oil</td>\n",
       "    </tr>\n",
       "    <tr>\n",
       "      <th>414628</th>\n",
       "      <td>Ghana</td>\n",
       "      <td>Gas Oil/ Diesel Oil - Consumption in agricultu...</td>\n",
       "      <td>2014</td>\n",
       "      <td>Metric tons,  thousand</td>\n",
       "      <td>44.50000</td>\n",
       "      <td>NaN</td>\n",
       "      <td>gas_oil_diesel_oil</td>\n",
       "    </tr>\n",
       "    <tr>\n",
       "      <th>340286</th>\n",
       "      <td>Korea, Republic of</td>\n",
       "      <td>Fuelwood - Consumption by manufacturing, const...</td>\n",
       "      <td>2014</td>\n",
       "      <td>Cubic metres, thousand</td>\n",
       "      <td>3150.41051</td>\n",
       "      <td>1.0</td>\n",
       "      <td>fuelwood</td>\n",
       "    </tr>\n",
       "    <tr>\n",
       "      <th>1175433</th>\n",
       "      <td>Ghana</td>\n",
       "      <td>Total refinery throughput</td>\n",
       "      <td>2014</td>\n",
       "      <td>Metric tons,  thousand</td>\n",
       "      <td>70.10000</td>\n",
       "      <td>NaN</td>\n",
       "      <td>total_refinery_output</td>\n",
       "    </tr>\n",
       "  </tbody>\n",
       "</table>\n",
       "</div>"
      ],
      "text/plain": [
       "            country_or_area  \\\n",
       "821902              Myanmar   \n",
       "272490               Sweden   \n",
       "414628                Ghana   \n",
       "340286   Korea, Republic of   \n",
       "1175433               Ghana   \n",
       "\n",
       "                                     commodity_transaction  year  \\\n",
       "821902   Natural gas (including LNG) - Memo:Gross produ...  2014   \n",
       "272490                     Fuel oil - Consumption by other  2014   \n",
       "414628   Gas Oil/ Diesel Oil - Consumption in agricultu...  2014   \n",
       "340286   Fuelwood - Consumption by manufacturing, const...  2014   \n",
       "1175433                          Total refinery throughput  2014   \n",
       "\n",
       "                           unit      quantity  quantity_footnotes  \\\n",
       "821902               Terajoules  594851.00000                 NaN   \n",
       "272490   Metric tons,  thousand      12.00000                 NaN   \n",
       "414628   Metric tons,  thousand      44.50000                 NaN   \n",
       "340286   Cubic metres, thousand    3150.41051                 1.0   \n",
       "1175433  Metric tons,  thousand      70.10000                 NaN   \n",
       "\n",
       "                          category  \n",
       "821902   natural_gas_including_lng  \n",
       "272490                    fuel_oil  \n",
       "414628          gas_oil_diesel_oil  \n",
       "340286                    fuelwood  \n",
       "1175433      total_refinery_output  "
      ]
     },
     "execution_count": 30,
     "metadata": {},
     "output_type": "execute_result"
    }
   ],
   "source": [
    "df_by_year.head()"
   ]
  },
  {
   "cell_type": "code",
   "execution_count": 128,
   "metadata": {},
   "outputs": [],
   "source": [
    "renewable_sources = ['solar_electricity','wind_electricity','hydro',\n",
    "                                     'tide_wave_and_ocean_electricity','geothermal',\n",
    "                                    'falling_water']\n",
    "non_rw_sources = ['natural_gas_including_lng','coal_tar','hard_coal',\n",
    "                                        'petroleum_coke','nuclear_electricity', 'conventional_crude_oil']\n",
    "\n",
    "renewables = df[df['category'].isin(['solar_electricity','wind_electricity','hydro'])]\n",
    "sustainables = df[df['category'].isin(['natural_gas_including_lng','hard_coal',\n",
    "                                        'conventional_crude_oil'])]"
   ]
  },
  {
   "cell_type": "code",
   "execution_count": 63,
   "metadata": {},
   "outputs": [
    {
     "name": "stderr",
     "output_type": "stream",
     "text": [
      "<ipython-input-63-274cfc92118a>:1: SettingWithCopyWarning: \n",
      "A value is trying to be set on a copy of a slice from a DataFrame\n",
      "\n",
      "See the caveats in the documentation: https://pandas.pydata.org/pandas-docs/stable/user_guide/indexing.html#returning-a-view-versus-a-copy\n",
      "  renewables.sort_values(by=['category'],inplace = True)\n",
      "<ipython-input-63-274cfc92118a>:3: SettingWithCopyWarning: \n",
      "A value is trying to be set on a copy of a slice from a DataFrame\n",
      "\n",
      "See the caveats in the documentation: https://pandas.pydata.org/pandas-docs/stable/user_guide/indexing.html#returning-a-view-versus-a-copy\n",
      "  sustainables.sort_values(by=['category'],inplace = True)\n"
     ]
    }
   ],
   "source": [
    "renewables.sort_values(by=['category'],inplace = True)\n",
    "\n",
    "sustainables.sort_values(by=['category'],inplace = True)"
   ]
  },
  {
   "cell_type": "code",
   "execution_count": 74,
   "metadata": {},
   "outputs": [
    {
     "data": {
      "text/plain": [
       "hydro                              3744\n",
       "wind_electricity                   1367\n",
       "falling_water                       962\n",
       "solar_electricity                   953\n",
       "geothermal                          496\n",
       "tide_wave_and_ocean_electricity      58\n",
       "Name: category, dtype: int64"
      ]
     },
     "execution_count": 74,
     "metadata": {},
     "output_type": "execute_result"
    }
   ],
   "source": [
    "renewables['category'].value_counts()"
   ]
  },
  {
   "cell_type": "markdown",
   "metadata": {},
   "source": [
    "# Section 2: Exploratory Data Analysis\n",
    "## Explore the dataset and find patterns as well as visualizations"
   ]
  },
  {
   "cell_type": "code",
   "execution_count": 106,
   "metadata": {},
   "outputs": [
    {
     "data": {
      "image/png": "[encoded data removed]",
      "text/plain": [
       "<Figure size 432x288 with 1 Axes>"
      ]
     },
     "metadata": {},
     "output_type": "display_data"
    }
   ],
   "source": [
    "sns.set_theme(style='whitegrid')\n",
    "\n",
    "renew_plot = sns.countplot(y='category', data=renewables)"
   ]
  },
  {
   "cell_type": "code",
   "execution_count": 81,
   "metadata": {},
   "outputs": [
    {
     "data": {
      "image/png": "[encoded data removed]",
      "text/plain": [
       "<Figure size 432x288 with 1 Axes>"
      ]
     },
     "metadata": {},
     "output_type": "display_data"
    }
   ],
   "source": [
    "sustain_plot = sns.countplot(y='category', data=sustainables)"
   ]
  },
  {
   "cell_type": "code",
   "execution_count": 88,
   "metadata": {},
   "outputs": [],
   "source": [
    "renewables = df[df['category'].isin(['hydro','wind_electricity','solar_electricity'])]"
   ]
  },
  {
   "cell_type": "code",
   "execution_count": 157,
   "metadata": {},
   "outputs": [
    {
     "data": {
      "image/png": "[encoded data removed]",
      "text/plain": [
       "<Figure size 1080x360 with 2 Axes>"
      ]
     },
     "metadata": {},
     "output_type": "display_data"
    }
   ],
   "source": [
    "fig, axes = plt.subplots(1,2,figsize=(15,5))\n",
    "fig.suptitle('Number of Countries with Renewable and Non-Renewable Sources')\n",
    "\n",
    "with sns.axes_style('ticks'):\n",
    "    sns.despine(left=True)\n",
    "    sns.set_palette(['#43a2ca','#edf8b1','#7fcdbb'])\n",
    "    renew_by_year = sns.histplot(ax = axes[0],x='year', hue='category', data=renewables,multiple='stack') \n",
    "    axes[0].set_ylabel('# of Countries')\n",
    "    axes[0].set_title('Renewables')\n",
    "    \n",
    "with sns.axes_style('dark'):\n",
    "    sns.despine(left=True)\n",
    "    sns.set_palette(['#fd8d3c','#d94801','#7f2704'])\n",
    "    renew_by_year = sns.histplot(ax = axes[1],x='year', hue='category', data=sustainables, multiple = 'layer', shrink = 2) \n",
    "    axes[1].set_ylabel('# of Countries')\n",
    "    axes[1].set_title('Non-renewables')"
   ]
  },
  {
   "cell_type": "markdown",
   "metadata": {},
   "source": [
    "__Notice that the Non-Renewables still outmatch the renewables. So I will now look into what countries are leading the world in renewable energy, and how that compares to their usage of non-renewable sources. Also notice that none of the non-renewable sources are sustainable__"
   ]
  }
 ],
 "metadata": {
  "kernelspec": {
   "display_name": "Python 3",
   "language": "python",
   "name": "python3"
  },
  "language_info": {
   "codemirror_mode": {
    "name": "ipython",
    "version": 3
   },
   "file_extension": ".py",
   "mimetype": "text/x-python",
   "name": "python",
   "nbconvert_exporter": "python",
   "pygments_lexer": "ipython3",
   "version": "3.8.5"
  }
 },
 "nbformat": 4,
 "nbformat_minor": 4
}
